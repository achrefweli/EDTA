{
 "cells": [
  {
   "cell_type": "markdown",
   "id": "f99a8e72",
   "metadata": {},
   "source": [
    " Clone Reference Repository\n",
    "This command clones the StockEmotions GitHub repository, which contains financial sentiment data and models used as a reference for this project."
   ]
  },
  {
   "cell_type": "code",
   "execution_count": null,
   "id": "b10cbe9a",
   "metadata": {},
   "outputs": [],
   "source": [
    "!git clone https://github.com/adlnlp/StockEmotions.git"
   ]
  },
  {
   "cell_type": "markdown",
   "id": "ed1e9e0a",
   "metadata": {},
   "source": [
    "This cell loads the tweet-level sentiment data from the StockEmotions repository (train, val, and test splits).\n",
    "It filters relevant columns, renames them for consistency, merges all splits, parses the dates, and maps sentiment labels (0 → bearish, 1 → bullish)."
   ]
  },
  {
   "cell_type": "code",
   "execution_count": 1,
   "id": "0ae2bfff",
   "metadata": {},
   "outputs": [
    {
     "data": {
      "text/html": [
       "<div>\n",
       "<style scoped>\n",
       "    .dataframe tbody tr th:only-of-type {\n",
       "        vertical-align: middle;\n",
       "    }\n",
       "\n",
       "    .dataframe tbody tr th {\n",
       "        vertical-align: top;\n",
       "    }\n",
       "\n",
       "    .dataframe thead th {\n",
       "        text-align: right;\n",
       "    }\n",
       "</style>\n",
       "<table border=\"1\" class=\"dataframe\">\n",
       "  <thead>\n",
       "    <tr style=\"text-align: right;\">\n",
       "      <th></th>\n",
       "      <th>date</th>\n",
       "      <th>ticker</th>\n",
       "      <th>text</th>\n",
       "      <th>sentiment</th>\n",
       "    </tr>\n",
       "  </thead>\n",
       "  <tbody>\n",
       "    <tr>\n",
       "      <th>0</th>\n",
       "      <td>2020-01-01</td>\n",
       "      <td>AMZN</td>\n",
       "      <td>$AMZN Dow futures up by 100 points already 🥳</td>\n",
       "      <td>NaN</td>\n",
       "    </tr>\n",
       "    <tr>\n",
       "      <th>1</th>\n",
       "      <td>2020-01-01</td>\n",
       "      <td>TSLA</td>\n",
       "      <td>$TSLA Daddy's drinkin' eArly tonight! Here's t...</td>\n",
       "      <td>NaN</td>\n",
       "    </tr>\n",
       "    <tr>\n",
       "      <th>2</th>\n",
       "      <td>2020-01-01</td>\n",
       "      <td>AAPL</td>\n",
       "      <td>$AAPL We’ll been riding since last December fr...</td>\n",
       "      <td>NaN</td>\n",
       "    </tr>\n",
       "    <tr>\n",
       "      <th>3</th>\n",
       "      <td>2020-01-01</td>\n",
       "      <td>TSLA</td>\n",
       "      <td>$TSLA happy new year, 2020, everyone🍷🎉🙏</td>\n",
       "      <td>NaN</td>\n",
       "    </tr>\n",
       "    <tr>\n",
       "      <th>4</th>\n",
       "      <td>2020-01-01</td>\n",
       "      <td>TSLA</td>\n",
       "      <td>$TSLA haha just a collection of greats...\"Mars...</td>\n",
       "      <td>NaN</td>\n",
       "    </tr>\n",
       "  </tbody>\n",
       "</table>\n",
       "</div>"
      ],
      "text/plain": [
       "         date ticker                                               text  \\\n",
       "0  2020-01-01   AMZN       $AMZN Dow futures up by 100 points already 🥳   \n",
       "1  2020-01-01   TSLA  $TSLA Daddy's drinkin' eArly tonight! Here's t...   \n",
       "2  2020-01-01   AAPL  $AAPL We’ll been riding since last December fr...   \n",
       "3  2020-01-01   TSLA            $TSLA happy new year, 2020, everyone🍷🎉🙏   \n",
       "4  2020-01-01   TSLA  $TSLA haha just a collection of greats...\"Mars...   \n",
       "\n",
       "  sentiment  \n",
       "0       NaN  \n",
       "1       NaN  \n",
       "2       NaN  \n",
       "3       NaN  \n",
       "4       NaN  "
      ]
     },
     "execution_count": 1,
     "metadata": {},
     "output_type": "execute_result"
    }
   ],
   "source": [
    "import pandas as pd\n",
    "from pathlib import Path\n",
    "\n",
    "base = Path(\"StockEmotions/tweet\")\n",
    "df_list = []\n",
    "for split in [\"train_stockemo\",\"val_stockemo\",\"test_stockemo\"]:\n",
    "    path = base / f\"{split}.csv\"\n",
    "    df = pd.read_csv(path)\n",
    "    df = df[['date','ticker','original','senti_label']]\n",
    "    df.rename(columns={'original':'text', 'senti_label':'sentiment'}, inplace=True)\n",
    "    df_list.append(df)\n",
    "df = pd.concat(df_list, ignore_index=True)\n",
    "df['date'] = pd.to_datetime(df['date']).dt.date\n",
    "df['sentiment'] = df['sentiment'].map({0:'bearish',1:'bullish'})\n",
    "df.head()\n"
   ]
  },
  {
   "cell_type": "markdown",
   "id": "93e20153",
   "metadata": {},
   "source": [
    "Shows dataset size, unique tickers"
   ]
  },
  {
   "cell_type": "code",
   "execution_count": 2,
   "id": "41ac684d",
   "metadata": {},
   "outputs": [
    {
     "name": "stdout",
     "output_type": "stream",
     "text": [
      "(10000, 4)\n",
      "37\n"
     ]
    }
   ],
   "source": [
    "print(df.shape)\n",
    "print(df['ticker'].nunique())"
   ]
  },
  {
   "cell_type": "markdown",
   "id": "2a249cbd",
   "metadata": {},
   "source": [
    "Loads daily price data for each stock ticker and stores them in a dictionary.\n",
    "\n"
   ]
  },
  {
   "cell_type": "code",
   "execution_count": 3,
   "id": "4c014aad",
   "metadata": {},
   "outputs": [
    {
     "data": {
      "text/plain": [
       "(41, ['AAPL', 'ABNB', 'AMT', 'AMZN', 'BA'])"
      ]
     },
     "execution_count": 3,
     "metadata": {},
     "output_type": "execute_result"
    }
   ],
   "source": [
    "price_dir = Path(\"StockEmotions/price\")\n",
    "price_dfs = {}\n",
    "for file in price_dir.glob(\"*.csv\"):\n",
    "    tk = file.stem\n",
    "    dfp = pd.read_csv(file, parse_dates=['Date'])\n",
    "    dfp['date'] = dfp['Date'].dt.date\n",
    "    dfp.set_index('date', inplace=True)\n",
    "    price_dfs[tk] = dfp[['Open','Close','Adj Close']]\n",
    "len(price_dfs), list(price_dfs.keys())[:5]\n"
   ]
  },
  {
   "cell_type": "code",
   "execution_count": 4,
   "id": "352c6a21",
   "metadata": {},
   "outputs": [
    {
     "data": {
      "text/html": [
       "<div>\n",
       "<style scoped>\n",
       "    .dataframe tbody tr th:only-of-type {\n",
       "        vertical-align: middle;\n",
       "    }\n",
       "\n",
       "    .dataframe tbody tr th {\n",
       "        vertical-align: top;\n",
       "    }\n",
       "\n",
       "    .dataframe thead th {\n",
       "        text-align: right;\n",
       "    }\n",
       "</style>\n",
       "<table border=\"1\" class=\"dataframe\">\n",
       "  <thead>\n",
       "    <tr style=\"text-align: right;\">\n",
       "      <th></th>\n",
       "      <th>Open</th>\n",
       "      <th>Close</th>\n",
       "      <th>Adj Close</th>\n",
       "    </tr>\n",
       "    <tr>\n",
       "      <th>date</th>\n",
       "      <th></th>\n",
       "      <th></th>\n",
       "      <th></th>\n",
       "    </tr>\n",
       "  </thead>\n",
       "  <tbody>\n",
       "    <tr>\n",
       "      <th>2019-12-31</th>\n",
       "      <td>92.099998</td>\n",
       "      <td>92.391998</td>\n",
       "      <td>92.391998</td>\n",
       "    </tr>\n",
       "    <tr>\n",
       "      <th>2020-01-02</th>\n",
       "      <td>93.750000</td>\n",
       "      <td>94.900497</td>\n",
       "      <td>94.900497</td>\n",
       "    </tr>\n",
       "    <tr>\n",
       "      <th>2020-01-03</th>\n",
       "      <td>93.224998</td>\n",
       "      <td>93.748497</td>\n",
       "      <td>93.748497</td>\n",
       "    </tr>\n",
       "    <tr>\n",
       "      <th>2020-01-06</th>\n",
       "      <td>93.000000</td>\n",
       "      <td>95.143997</td>\n",
       "      <td>95.143997</td>\n",
       "    </tr>\n",
       "    <tr>\n",
       "      <th>2020-01-07</th>\n",
       "      <td>95.224998</td>\n",
       "      <td>95.343002</td>\n",
       "      <td>95.343002</td>\n",
       "    </tr>\n",
       "    <tr>\n",
       "      <th>...</th>\n",
       "      <td>...</td>\n",
       "      <td>...</td>\n",
       "      <td>...</td>\n",
       "    </tr>\n",
       "    <tr>\n",
       "      <th>2020-12-24</th>\n",
       "      <td>159.695007</td>\n",
       "      <td>158.634506</td>\n",
       "      <td>158.634506</td>\n",
       "    </tr>\n",
       "    <tr>\n",
       "      <th>2020-12-28</th>\n",
       "      <td>159.699997</td>\n",
       "      <td>164.197998</td>\n",
       "      <td>164.197998</td>\n",
       "    </tr>\n",
       "    <tr>\n",
       "      <th>2020-12-29</th>\n",
       "      <td>165.496994</td>\n",
       "      <td>166.100006</td>\n",
       "      <td>166.100006</td>\n",
       "    </tr>\n",
       "    <tr>\n",
       "      <th>2020-12-30</th>\n",
       "      <td>167.050003</td>\n",
       "      <td>164.292496</td>\n",
       "      <td>164.292496</td>\n",
       "    </tr>\n",
       "    <tr>\n",
       "      <th>2020-12-31</th>\n",
       "      <td>163.750000</td>\n",
       "      <td>162.846497</td>\n",
       "      <td>162.846497</td>\n",
       "    </tr>\n",
       "  </tbody>\n",
       "</table>\n",
       "<p>254 rows × 3 columns</p>\n",
       "</div>"
      ],
      "text/plain": [
       "                  Open       Close   Adj Close\n",
       "date                                          \n",
       "2019-12-31   92.099998   92.391998   92.391998\n",
       "2020-01-02   93.750000   94.900497   94.900497\n",
       "2020-01-03   93.224998   93.748497   93.748497\n",
       "2020-01-06   93.000000   95.143997   95.143997\n",
       "2020-01-07   95.224998   95.343002   95.343002\n",
       "...                ...         ...         ...\n",
       "2020-12-24  159.695007  158.634506  158.634506\n",
       "2020-12-28  159.699997  164.197998  164.197998\n",
       "2020-12-29  165.496994  166.100006  166.100006\n",
       "2020-12-30  167.050003  164.292496  164.292496\n",
       "2020-12-31  163.750000  162.846497  162.846497\n",
       "\n",
       "[254 rows x 3 columns]"
      ]
     },
     "execution_count": 4,
     "metadata": {},
     "output_type": "execute_result"
    }
   ],
   "source": [
    "price_dfs[\"AMZN\"]"
   ]
  },
  {
   "cell_type": "markdown",
   "id": "a12ed028",
   "metadata": {},
   "source": [
    "#### Filter by Available Price Data\n",
    "Removes tweets for tickers with no matching price history."
   ]
  },
  {
   "cell_type": "code",
   "execution_count": 5,
   "id": "83e3b663",
   "metadata": {},
   "outputs": [
    {
     "name": "stdout",
     "output_type": "stream",
     "text": [
      "In tweets but missing price data: {'BRK.B'}\n"
     ]
    }
   ],
   "source": [
    "tickers = set(df['ticker'])\n",
    "available = set(price_dfs.keys())\n",
    "print(\"In tweets but missing price data:\", tickers - available)\n",
    "df = df[df['ticker'].isin(available)].reset_index(drop=True)"
   ]
  },
  {
   "cell_type": "markdown",
   "id": "36bebc15",
   "metadata": {},
   "source": [
    "### Load Pretrained Sentiment Model\n",
    "Loads the twitter-roberta-base-sentiment model and tokenizer to classify tweet sentiment."
   ]
  },
  {
   "cell_type": "code",
   "execution_count": 6,
   "id": "397d2f83",
   "metadata": {},
   "outputs": [
    {
     "name": "stderr",
     "output_type": "stream",
     "text": [
      "d:\\thése_achraf\\EDTA\\.venv\\Lib\\site-packages\\tqdm\\auto.py:21: TqdmWarning: IProgress not found. Please update jupyter and ipywidgets. See https://ipywidgets.readthedocs.io/en/stable/user_install.html\n",
      "  from .autonotebook import tqdm as notebook_tqdm\n"
     ]
    }
   ],
   "source": [
    "from transformers import AutoTokenizer, AutoModelForSequenceClassification\n",
    "import torch\n",
    "\n",
    "model_name = \"cardiffnlp/twitter-roberta-base-sentiment\"\n",
    "\n",
    "tokenizer = AutoTokenizer.from_pretrained(model_name)\n",
    "model = AutoModelForSequenceClassification.from_pretrained(model_name)\n",
    "labels = ['negative', 'neutral', 'positive']\n"
   ]
  }
 ],
 "metadata": {
  "kernelspec": {
   "display_name": "EDTA",
   "language": "python",
   "name": "python3"
  },
  "language_info": {
   "codemirror_mode": {
    "name": "ipython",
    "version": 3
   },
   "file_extension": ".py",
   "mimetype": "text/x-python",
   "name": "python",
   "nbconvert_exporter": "python",
   "pygments_lexer": "ipython3",
   "version": "3.13.2"
  }
 },
 "nbformat": 4,
 "nbformat_minor": 5
}
