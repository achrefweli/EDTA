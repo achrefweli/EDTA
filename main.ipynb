{
 "cells": [
  {
   "cell_type": "markdown",
   "id": "f99a8e72",
   "metadata": {},
   "source": [
    " Clone Reference Repository\n",
    "This command clones the StockEmotions GitHub repository, which contains financial sentiment data and models used as a reference for this project."
   ]
  },
  {
   "cell_type": "code",
   "execution_count": null,
   "id": "b10cbe9a",
   "metadata": {},
   "outputs": [],
   "source": [
    "!git clone https://github.com/adlnlp/StockEmotions.git"
   ]
  },
  {
   "cell_type": "markdown",
   "id": "ed1e9e0a",
   "metadata": {},
   "source": [
    "This cell loads the tweet-level sentiment data from the StockEmotions repository (train, val, and test splits).\n",
    "It filters relevant columns, renames them for consistency, merges all splits, parses the dates, and maps sentiment labels (0 → bearish, 1 → bullish)."
   ]
  },
  {
   "cell_type": "code",
   "execution_count": 13,
   "id": "0ae2bfff",
   "metadata": {},
   "outputs": [
    {
     "data": {
      "text/html": [
       "<div>\n",
       "<style scoped>\n",
       "    .dataframe tbody tr th:only-of-type {\n",
       "        vertical-align: middle;\n",
       "    }\n",
       "\n",
       "    .dataframe tbody tr th {\n",
       "        vertical-align: top;\n",
       "    }\n",
       "\n",
       "    .dataframe thead th {\n",
       "        text-align: right;\n",
       "    }\n",
       "</style>\n",
       "<table border=\"1\" class=\"dataframe\">\n",
       "  <thead>\n",
       "    <tr style=\"text-align: right;\">\n",
       "      <th></th>\n",
       "      <th>date</th>\n",
       "      <th>ticker</th>\n",
       "      <th>text</th>\n",
       "      <th>sentiment</th>\n",
       "    </tr>\n",
       "  </thead>\n",
       "  <tbody>\n",
       "    <tr>\n",
       "      <th>0</th>\n",
       "      <td>2020-01-01</td>\n",
       "      <td>AMZN</td>\n",
       "      <td>$AMZN Dow futures up by 100 points already 🥳</td>\n",
       "      <td>NaN</td>\n",
       "    </tr>\n",
       "    <tr>\n",
       "      <th>1</th>\n",
       "      <td>2020-01-01</td>\n",
       "      <td>TSLA</td>\n",
       "      <td>$TSLA Daddy's drinkin' eArly tonight! Here's t...</td>\n",
       "      <td>NaN</td>\n",
       "    </tr>\n",
       "    <tr>\n",
       "      <th>2</th>\n",
       "      <td>2020-01-01</td>\n",
       "      <td>AAPL</td>\n",
       "      <td>$AAPL We’ll been riding since last December fr...</td>\n",
       "      <td>NaN</td>\n",
       "    </tr>\n",
       "    <tr>\n",
       "      <th>3</th>\n",
       "      <td>2020-01-01</td>\n",
       "      <td>TSLA</td>\n",
       "      <td>$TSLA happy new year, 2020, everyone🍷🎉🙏</td>\n",
       "      <td>NaN</td>\n",
       "    </tr>\n",
       "    <tr>\n",
       "      <th>4</th>\n",
       "      <td>2020-01-01</td>\n",
       "      <td>TSLA</td>\n",
       "      <td>$TSLA haha just a collection of greats...\"Mars...</td>\n",
       "      <td>NaN</td>\n",
       "    </tr>\n",
       "  </tbody>\n",
       "</table>\n",
       "</div>"
      ],
      "text/plain": [
       "         date ticker                                               text  \\\n",
       "0  2020-01-01   AMZN       $AMZN Dow futures up by 100 points already 🥳   \n",
       "1  2020-01-01   TSLA  $TSLA Daddy's drinkin' eArly tonight! Here's t...   \n",
       "2  2020-01-01   AAPL  $AAPL We’ll been riding since last December fr...   \n",
       "3  2020-01-01   TSLA            $TSLA happy new year, 2020, everyone🍷🎉🙏   \n",
       "4  2020-01-01   TSLA  $TSLA haha just a collection of greats...\"Mars...   \n",
       "\n",
       "  sentiment  \n",
       "0       NaN  \n",
       "1       NaN  \n",
       "2       NaN  \n",
       "3       NaN  \n",
       "4       NaN  "
      ]
     },
     "execution_count": 13,
     "metadata": {},
     "output_type": "execute_result"
    }
   ],
   "source": [
    "import pandas as pd\n",
    "from pathlib import Path\n",
    "\n",
    "base = Path(\"StockEmotions/tweet\")\n",
    "df_list = []\n",
    "for split in [\"train_stockemo\",\"val_stockemo\",\"test_stockemo\"]:\n",
    "    path = base / f\"{split}.csv\"\n",
    "    df = pd.read_csv(path)\n",
    "    df = df[['date','ticker','original','senti_label']]\n",
    "    df.rename(columns={'original':'text', 'senti_label':'sentiment'}, inplace=True)\n",
    "    df_list.append(df)\n",
    "df = pd.concat(df_list, ignore_index=True)\n",
    "df['date'] = pd.to_datetime(df['date']).dt.date\n",
    "df['sentiment'] = df['sentiment'].map({0:'bearish',1:'bullish'})\n",
    "df.head()\n"
   ]
  },
  {
   "cell_type": "markdown",
   "id": "93e20153",
   "metadata": {},
   "source": [
    "Shows dataset size, unique tickers"
   ]
  },
  {
   "cell_type": "code",
   "execution_count": 2,
   "id": "41ac684d",
   "metadata": {},
   "outputs": [
    {
     "name": "stdout",
     "output_type": "stream",
     "text": [
      "(10000, 4)\n",
      "37\n"
     ]
    }
   ],
   "source": [
    "print(df.shape)\n",
    "print(df['ticker'].nunique())"
   ]
  },
  {
   "cell_type": "markdown",
   "id": "2a249cbd",
   "metadata": {},
   "source": [
    "Loads daily price data for each stock ticker and stores them in a dictionary.\n",
    "\n"
   ]
  },
  {
   "cell_type": "code",
   "execution_count": 3,
   "id": "4c014aad",
   "metadata": {},
   "outputs": [
    {
     "data": {
      "text/plain": [
       "(41, ['AAPL', 'ABNB', 'AMT', 'AMZN', 'BA'])"
      ]
     },
     "execution_count": 3,
     "metadata": {},
     "output_type": "execute_result"
    }
   ],
   "source": [
    "price_dir = Path(\"StockEmotions/price\")\n",
    "price_dfs = {}\n",
    "for file in price_dir.glob(\"*.csv\"):\n",
    "    tk = file.stem\n",
    "    dfp = pd.read_csv(file, parse_dates=['Date'])\n",
    "    dfp['date'] = dfp['Date'].dt.date\n",
    "    dfp.set_index('date', inplace=True)\n",
    "    price_dfs[tk] = dfp[['Open','Close','Adj Close']]\n",
    "len(price_dfs), list(price_dfs.keys())[:5]\n"
   ]
  },
  {
   "cell_type": "code",
   "execution_count": 4,
   "id": "352c6a21",
   "metadata": {},
   "outputs": [
    {
     "data": {
      "text/html": [
       "<div>\n",
       "<style scoped>\n",
       "    .dataframe tbody tr th:only-of-type {\n",
       "        vertical-align: middle;\n",
       "    }\n",
       "\n",
       "    .dataframe tbody tr th {\n",
       "        vertical-align: top;\n",
       "    }\n",
       "\n",
       "    .dataframe thead th {\n",
       "        text-align: right;\n",
       "    }\n",
       "</style>\n",
       "<table border=\"1\" class=\"dataframe\">\n",
       "  <thead>\n",
       "    <tr style=\"text-align: right;\">\n",
       "      <th></th>\n",
       "      <th>Open</th>\n",
       "      <th>Close</th>\n",
       "      <th>Adj Close</th>\n",
       "    </tr>\n",
       "    <tr>\n",
       "      <th>date</th>\n",
       "      <th></th>\n",
       "      <th></th>\n",
       "      <th></th>\n",
       "    </tr>\n",
       "  </thead>\n",
       "  <tbody>\n",
       "    <tr>\n",
       "      <th>2019-12-31</th>\n",
       "      <td>92.099998</td>\n",
       "      <td>92.391998</td>\n",
       "      <td>92.391998</td>\n",
       "    </tr>\n",
       "    <tr>\n",
       "      <th>2020-01-02</th>\n",
       "      <td>93.750000</td>\n",
       "      <td>94.900497</td>\n",
       "      <td>94.900497</td>\n",
       "    </tr>\n",
       "    <tr>\n",
       "      <th>2020-01-03</th>\n",
       "      <td>93.224998</td>\n",
       "      <td>93.748497</td>\n",
       "      <td>93.748497</td>\n",
       "    </tr>\n",
       "    <tr>\n",
       "      <th>2020-01-06</th>\n",
       "      <td>93.000000</td>\n",
       "      <td>95.143997</td>\n",
       "      <td>95.143997</td>\n",
       "    </tr>\n",
       "    <tr>\n",
       "      <th>2020-01-07</th>\n",
       "      <td>95.224998</td>\n",
       "      <td>95.343002</td>\n",
       "      <td>95.343002</td>\n",
       "    </tr>\n",
       "    <tr>\n",
       "      <th>...</th>\n",
       "      <td>...</td>\n",
       "      <td>...</td>\n",
       "      <td>...</td>\n",
       "    </tr>\n",
       "    <tr>\n",
       "      <th>2020-12-24</th>\n",
       "      <td>159.695007</td>\n",
       "      <td>158.634506</td>\n",
       "      <td>158.634506</td>\n",
       "    </tr>\n",
       "    <tr>\n",
       "      <th>2020-12-28</th>\n",
       "      <td>159.699997</td>\n",
       "      <td>164.197998</td>\n",
       "      <td>164.197998</td>\n",
       "    </tr>\n",
       "    <tr>\n",
       "      <th>2020-12-29</th>\n",
       "      <td>165.496994</td>\n",
       "      <td>166.100006</td>\n",
       "      <td>166.100006</td>\n",
       "    </tr>\n",
       "    <tr>\n",
       "      <th>2020-12-30</th>\n",
       "      <td>167.050003</td>\n",
       "      <td>164.292496</td>\n",
       "      <td>164.292496</td>\n",
       "    </tr>\n",
       "    <tr>\n",
       "      <th>2020-12-31</th>\n",
       "      <td>163.750000</td>\n",
       "      <td>162.846497</td>\n",
       "      <td>162.846497</td>\n",
       "    </tr>\n",
       "  </tbody>\n",
       "</table>\n",
       "<p>254 rows × 3 columns</p>\n",
       "</div>"
      ],
      "text/plain": [
       "                  Open       Close   Adj Close\n",
       "date                                          \n",
       "2019-12-31   92.099998   92.391998   92.391998\n",
       "2020-01-02   93.750000   94.900497   94.900497\n",
       "2020-01-03   93.224998   93.748497   93.748497\n",
       "2020-01-06   93.000000   95.143997   95.143997\n",
       "2020-01-07   95.224998   95.343002   95.343002\n",
       "...                ...         ...         ...\n",
       "2020-12-24  159.695007  158.634506  158.634506\n",
       "2020-12-28  159.699997  164.197998  164.197998\n",
       "2020-12-29  165.496994  166.100006  166.100006\n",
       "2020-12-30  167.050003  164.292496  164.292496\n",
       "2020-12-31  163.750000  162.846497  162.846497\n",
       "\n",
       "[254 rows x 3 columns]"
      ]
     },
     "execution_count": 4,
     "metadata": {},
     "output_type": "execute_result"
    }
   ],
   "source": [
    "price_dfs[\"AMZN\"]"
   ]
  },
  {
   "cell_type": "markdown",
   "id": "a12ed028",
   "metadata": {},
   "source": [
    "#### Filter by Available Price Data\n",
    "Removes tweets for tickers with no matching price history."
   ]
  },
  {
   "cell_type": "code",
   "execution_count": 5,
   "id": "83e3b663",
   "metadata": {},
   "outputs": [
    {
     "name": "stdout",
     "output_type": "stream",
     "text": [
      "In tweets but missing price data: {'BRK.B'}\n"
     ]
    }
   ],
   "source": [
    "tickers = set(df['ticker'])\n",
    "available = set(price_dfs.keys())\n",
    "print(\"In tweets but missing price data:\", tickers - available)\n",
    "df = df[df['ticker'].isin(available)].reset_index(drop=True)"
   ]
  },
  {
   "cell_type": "markdown",
   "id": "36bebc15",
   "metadata": {},
   "source": [
    "### Load Pretrained Sentiment Model\n",
    "Loads the twitter-roberta-base-sentiment model and tokenizer to classify tweet sentiment."
   ]
  },
  {
   "cell_type": "code",
   "execution_count": 6,
   "id": "397d2f83",
   "metadata": {},
   "outputs": [
    {
     "name": "stderr",
     "output_type": "stream",
     "text": [
      "d:\\thése_achraf\\EDTA\\.venv\\Lib\\site-packages\\tqdm\\auto.py:21: TqdmWarning: IProgress not found. Please update jupyter and ipywidgets. See https://ipywidgets.readthedocs.io/en/stable/user_install.html\n",
      "  from .autonotebook import tqdm as notebook_tqdm\n"
     ]
    }
   ],
   "source": [
    "from transformers import AutoTokenizer, AutoModelForSequenceClassification\n",
    "import torch\n",
    "\n",
    "model_name = \"cardiffnlp/twitter-roberta-base-sentiment\"\n",
    "\n",
    "tokenizer = AutoTokenizer.from_pretrained(model_name)\n",
    "model = AutoModelForSequenceClassification.from_pretrained(model_name)\n",
    "labels = ['negative', 'neutral', 'positive']\n"
   ]
  },
  {
   "cell_type": "markdown",
   "id": "681514a6",
   "metadata": {},
   "source": [
    "### Define Sentiment Prediction Function\n",
    "This function returns the predicted label and a sentiment score ∈ [–1, 1] based on model probabilities."
   ]
  },
  {
   "cell_type": "code",
   "execution_count": 7,
   "id": "023a316f",
   "metadata": {},
   "outputs": [],
   "source": [
    "def infer_finbert_sentiment(text):\n",
    "    inputs = tokenizer(text, return_tensors='pt', truncation=True, max_length=512)\n",
    "    with torch.no_grad():\n",
    "        outputs = model(**inputs)\n",
    "        probs = torch.softmax(outputs.logits, dim=1)[0].numpy()\n",
    "    label = labels[probs.argmax()]\n",
    "    score = probs[2] - probs[0]  # positive - negative → score ∈ [-1, 1]\n",
    "    return label, float(score)\n"
   ]
  },
  {
   "cell_type": "markdown",
   "id": "594ca422",
   "metadata": {},
   "source": [
    "### Run Sentiment Inference on Tweets\n",
    "Applies the sentiment model to each tweet and stores the predicted label and score."
   ]
  },
  {
   "cell_type": "code",
   "execution_count": 9,
   "id": "2675a2e7",
   "metadata": {},
   "outputs": [
    {
     "name": "stderr",
     "output_type": "stream",
     "text": []
    },
    {
     "name": "stderr",
     "output_type": "stream",
     "text": [
      "100%|██████████| 9986/9986 [1:36:03<00:00,  1.73it/s]\n"
     ]
    }
   ],
   "source": [
    "from tqdm import tqdm\n",
    "import pandas as pd\n",
    "\n",
    "df = df.dropna(subset=[\"text\"]).copy().reset_index(drop=True)\n",
    "\n",
    "labels_list = []\n",
    "scores_list = []\n",
    "\n",
    "for i in tqdm(range(len(df))):\n",
    "    label, score = infer_finbert_sentiment(df.loc[i, 'text'])\n",
    "    labels_list.append(label)\n",
    "    scores_list.append(score)\n",
    "\n",
    "df['finbert_label'] = labels_list\n",
    "df['finbert_score'] = scores_list\n"
   ]
  },
  {
   "cell_type": "markdown",
   "id": "36ea1d11",
   "metadata": {},
   "source": [
    "### Save Results\n",
    "Exports the enriched dataset with FinBERT sentiment to a CSV file."
   ]
  },
  {
   "cell_type": "code",
   "execution_count": 10,
   "id": "532d08ba",
   "metadata": {},
   "outputs": [],
   "source": [
    "df.to_csv(\"tweets_with_finbert_sentiment.csv\", index=False)"
   ]
  },
  {
   "cell_type": "markdown",
   "id": "a43d78df",
   "metadata": {},
   "source": [
    "Charger la vérité terrain (senti_label)"
   ]
  },
  {
   "cell_type": "code",
   "execution_count": 17,
   "id": "2dd76a3a",
   "metadata": {},
   "outputs": [
    {
     "data": {
      "text/html": [
       "<div>\n",
       "<style scoped>\n",
       "    .dataframe tbody tr th:only-of-type {\n",
       "        vertical-align: middle;\n",
       "    }\n",
       "\n",
       "    .dataframe tbody tr th {\n",
       "        vertical-align: top;\n",
       "    }\n",
       "\n",
       "    .dataframe thead th {\n",
       "        text-align: right;\n",
       "    }\n",
       "</style>\n",
       "<table border=\"1\" class=\"dataframe\">\n",
       "  <thead>\n",
       "    <tr style=\"text-align: right;\">\n",
       "      <th></th>\n",
       "      <th>text</th>\n",
       "      <th>senti_label</th>\n",
       "      <th>finbert_label</th>\n",
       "      <th>finbert_score</th>\n",
       "    </tr>\n",
       "  </thead>\n",
       "  <tbody>\n",
       "    <tr>\n",
       "      <th>0</th>\n",
       "      <td>$AMZN Dow futures up by 100 points already 🥳</td>\n",
       "      <td>bullish</td>\n",
       "      <td>positive</td>\n",
       "      <td>0.912322</td>\n",
       "    </tr>\n",
       "    <tr>\n",
       "      <th>1</th>\n",
       "      <td>$TSLA Daddy's drinkin' eArly tonight! Here's t...</td>\n",
       "      <td>bullish</td>\n",
       "      <td>positive</td>\n",
       "      <td>0.869287</td>\n",
       "    </tr>\n",
       "    <tr>\n",
       "      <th>2</th>\n",
       "      <td>$AAPL We’ll been riding since last December fr...</td>\n",
       "      <td>bullish</td>\n",
       "      <td>neutral</td>\n",
       "      <td>-0.088178</td>\n",
       "    </tr>\n",
       "    <tr>\n",
       "      <th>3</th>\n",
       "      <td>$TSLA happy new year, 2020, everyone🍷🎉🙏</td>\n",
       "      <td>bullish</td>\n",
       "      <td>positive</td>\n",
       "      <td>0.978799</td>\n",
       "    </tr>\n",
       "    <tr>\n",
       "      <th>4</th>\n",
       "      <td>$TSLA haha just a collection of greats...\"Mars...</td>\n",
       "      <td>bullish</td>\n",
       "      <td>positive</td>\n",
       "      <td>0.886038</td>\n",
       "    </tr>\n",
       "  </tbody>\n",
       "</table>\n",
       "</div>"
      ],
      "text/plain": [
       "                                                text senti_label  \\\n",
       "0       $AMZN Dow futures up by 100 points already 🥳     bullish   \n",
       "1  $TSLA Daddy's drinkin' eArly tonight! Here's t...     bullish   \n",
       "2  $AAPL We’ll been riding since last December fr...     bullish   \n",
       "3            $TSLA happy new year, 2020, everyone🍷🎉🙏     bullish   \n",
       "4  $TSLA haha just a collection of greats...\"Mars...     bullish   \n",
       "\n",
       "  finbert_label  finbert_score  \n",
       "0      positive       0.912322  \n",
       "1      positive       0.869287  \n",
       "2       neutral      -0.088178  \n",
       "3      positive       0.978799  \n",
       "4      positive       0.886038  "
      ]
     },
     "execution_count": 17,
     "metadata": {},
     "output_type": "execute_result"
    }
   ],
   "source": [
    "\n",
    "base = Path(\"StockEmotions/tweet\") \n",
    "df_list = []\n",
    "\n",
    "for split in [\"train_stockemo\", \"val_stockemo\", \"test_stockemo\"]:\n",
    "    path = base / f\"{split}.csv\"\n",
    "    df = pd.read_csv(path)\n",
    "    df = df[['date','ticker','original','senti_label']]\n",
    "    df.rename(columns={'original': 'text'}, inplace=True)\n",
    "    df_list.append(df)\n",
    "\n",
    "df_gold = pd.concat(df_list, ignore_index=True)\n",
    "df_gold['date'] = pd.to_datetime(df_gold['date']).dt.date\n",
    "\n",
    "\n",
    "df_pred = pd.read_csv(\"tweets_with_finbert_sentiment.csv\")\n",
    "df_pred['date'] = pd.to_datetime(df_pred['date']).dt.date\n",
    "\n",
    "df = pd.merge(df_pred, df_gold, on=['date', 'ticker', 'text'], how='inner')\n",
    "\n",
    "# Vérifions que tout est bien aligné\n",
    "df[['text', 'senti_label', 'finbert_label', 'finbert_score']].head()\n",
    "\n",
    "\n"
   ]
  },
  {
   "cell_type": "code",
   "execution_count": 18,
   "id": "cf6603b5",
   "metadata": {},
   "outputs": [
    {
     "name": "stderr",
     "output_type": "stream",
     "text": [
      "Exception ignored in: <function tqdm.__del__ at 0x000002515AD2DD00>\n",
      "Traceback (most recent call last):\n",
      "  File \"d:\\thése_achraf\\EDTA\\.venv\\Lib\\site-packages\\tqdm\\std.py\", line 1148, in __del__\n",
      "    self.close()\n",
      "  File \"d:\\thése_achraf\\EDTA\\.venv\\Lib\\site-packages\\tqdm\\notebook.py\", line 279, in close\n",
      "    self.disp(bar_style='danger', check_delay=False)\n",
      "AttributeError: 'tqdm_notebook' object has no attribute 'disp'\n"
     ]
    },
    {
     "name": "stdout",
     "output_type": "stream",
     "text": [
      "Option 1 – Accuracy (non-neutral only): 0.6749\n",
      "              precision    recall  f1-score   support\n",
      "\n",
      "     bearish       0.63      0.57      0.60      2632\n",
      "     bullish       0.70      0.75      0.73      3507\n",
      "\n",
      "    accuracy                           0.67      6139\n",
      "   macro avg       0.67      0.66      0.66      6139\n",
      "weighted avg       0.67      0.67      0.67      6139\n",
      "\n"
     ]
    }
   ],
   "source": [
    "from sklearn.metrics import accuracy_score, classification_report\n",
    "\n",
    "# Filtrer les cas où finbert_label est positive ou negative\n",
    "df_strict = df[df['finbert_label'].isin(['positive', 'negative'])].copy()\n",
    "map_labels = {'positive': 'bullish', 'negative': 'bearish'}\n",
    "df_strict['finbert_mapped'] = df_strict['finbert_label'].map(map_labels)\n",
    "\n",
    "# Évaluer\n",
    "acc1 = accuracy_score(df_strict['senti_label'], df_strict['finbert_mapped'])\n",
    "print(f\"Option 1 – Accuracy (non-neutral only): {acc1:.4f}\")\n",
    "print(classification_report(df_strict['senti_label'], df_strict['finbert_mapped']))\n"
   ]
  },
  {
   "cell_type": "markdown",
   "id": "6084c8ae",
   "metadata": {},
   "source": [
    "## Sentiment Model Evaluation – Option 1 (Non-Neutral Predictions Only)\n",
    "\n",
    "We evaluated the FinBERT-based sentiment classification model on the subset of the dataset where predictions were either `positive` or `negative`, excluding `neutral` cases to focus on high-confidence sentiment detection.\n",
    "\n",
    "###  Evaluation Metrics\n",
    "\n",
    "| Sentiment | Precision | Recall | F1-Score | Support |\n",
    "|-----------|-----------|--------|----------|---------|\n",
    "| Bearish   | 0.63      | 0.57   | 0.60     | 2632    |\n",
    "| Bullish   | 0.70      | 0.75   | 0.73     | 3507    |\n",
    "| **Overall Accuracy** |       |        |          | **67.49%** |\n",
    "\n",
    "\n"
   ]
  },
  {
   "cell_type": "code",
   "execution_count": 20,
   "id": "8277a23c",
   "metadata": {},
   "outputs": [
    {
     "name": "stdout",
     "output_type": "stream",
     "text": [
      "Option 2 – Accuracy (all): 0.6366\n",
      "              precision    recall  f1-score   support\n",
      "\n",
      "     bearish       0.61      0.54      0.58      4522\n",
      "     bullish       0.65      0.71      0.68      5464\n",
      "\n",
      "    accuracy                           0.64      9986\n",
      "   macro avg       0.63      0.63      0.63      9986\n",
      "weighted avg       0.63      0.64      0.63      9986\n",
      "\n"
     ]
    }
   ],
   "source": [
    "df['finbert_binary'] = df['finbert_score'].apply(lambda x: 'bullish' if x > 0 else 'bearish')\n",
    "\n",
    "# Évaluer\n",
    "df_all = df.dropna(subset=['senti_label', 'finbert_binary'])\n",
    "acc2 = accuracy_score(df_all['senti_label'], df_all['finbert_binary'])\n",
    "print(f\"Option 2 – Accuracy (all): {acc2:.4f}\")\n",
    "print(classification_report(df_all['senti_label'], df_all['finbert_binary']))\n"
   ]
  },
  {
   "cell_type": "markdown",
   "id": "bdf012fd",
   "metadata": {},
   "source": [
    "##  Sentiment Model Evaluation – Option 2 (Full Dataset Using Score > 0)\n",
    "\n",
    "In this evaluation, we used the entire dataset by converting the continuous `finbert_score` into binary sentiment:\n",
    "\n",
    "- `bullish` if score > 0\n",
    "- `bearish` if score <= 0\n",
    "\n",
    "This includes all tweets, even those that may have had ambiguous or borderline sentiment.\n",
    "\n",
    "###  Evaluation Metrics\n",
    "\n",
    "| Sentiment | Precision | Recall | F1-Score | Support |\n",
    "|-----------|-----------|--------|----------|---------|\n",
    "| Bearish   | 0.61      | 0.54   | 0.58     | 4522    |\n",
    "| Bullish   | 0.65      | 0.71   | 0.68     | 5464    |\n",
    "| **Overall Accuracy** |       |        |          | **63.66%** |\n",
    "\n"
   ]
  },
  {
   "cell_type": "markdown",
   "id": "35d828a9",
   "metadata": {},
   "source": [
    "##  Conclusion\n",
    "\n",
    "The sentiment model based on FinBERT performs reasonably well, especially on clearly positive (bullish) tweets. It shows limitations on bearish detection but remains a solid foundation for further development.\n",
    "\n",
    "- **Final model score** (macro F1 average across both tests): **0.645**\n",
    "\n",
    "##  Next Step\n",
    "\n",
    "- Use sentiment scores to **generate trading signals**\n",
    "- Plan a **comparison with other models** ( FinGPT, LLMs with justification/explanation)\n",
    "- Prepare for **adding explainability (XAI)** to better interpret each sentiment prediction"
   ]
  },
  {
   "cell_type": "markdown",
   "id": "92b536ad",
   "metadata": {},
   "source": []
  }
 ],
 "metadata": {
  "kernelspec": {
   "display_name": "EDTA",
   "language": "python",
   "name": "python3"
  },
  "language_info": {
   "codemirror_mode": {
    "name": "ipython",
    "version": 3
   },
   "file_extension": ".py",
   "mimetype": "text/x-python",
   "name": "python",
   "nbconvert_exporter": "python",
   "pygments_lexer": "ipython3",
   "version": "3.13.2"
  }
 },
 "nbformat": 4,
 "nbformat_minor": 5
}
